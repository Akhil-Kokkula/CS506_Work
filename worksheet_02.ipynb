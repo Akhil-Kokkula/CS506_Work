{
 "cells": [
  {
   "attachments": {},
   "cell_type": "markdown",
   "metadata": {},
   "source": [
    "# Worksheet 02\n",
    "\n",
    "Name: Akhil Kokkula\n",
    "UID: U99436171\n",
    "\n",
    "### Topics\n",
    "\n",
    "- Effective Programming\n",
    "\n",
    "### Effective Programming\n",
    "\n",
    "a) What is a drawback of the top down approach?"
   ]
  },
  {
   "cell_type": "markdown",
   "metadata": {},
   "source": [
    "Harder to test the code becuase in order to test for the correctness of the code, the helper functions for the high level need to be all written. "
   ]
  },
  {
   "cell_type": "markdown",
   "metadata": {},
   "source": [
    "b) What is a drawback of the bottom up approach?"
   ]
  },
  {
   "cell_type": "markdown",
   "metadata": {},
   "source": [
    "Hard to know upfront all the functions that will be needed. It could be the case that you don't need to use the smaller functions that you created for the high level function since you were not sure of all specifications upfront. "
   ]
  },
  {
   "cell_type": "markdown",
   "metadata": {},
   "source": [
    "c) What are 3 things you can do to have a better debugging experience?"
   ]
  },
  {
   "cell_type": "markdown",
   "metadata": {},
   "source": [
    "1. Read the error: understand what the error is, where the error is from, what's the real cause of the error\n",
    "2. Re-read the code: trace the code to see if the error can be reproduced, if not, then refactor the code to reduce complexity\n",
    "3. Sanity check: is everything set up properly and are they all communicating with each other correctly\n",
    "\n"
   ]
  },
  {
   "attachments": {},
   "cell_type": "markdown",
   "metadata": {},
   "source": [
    "d) Follow along with the live coding. You can write your code here:"
   ]
  },
  {
   "cell_type": "code",
   "execution_count": 10,
   "metadata": {},
   "outputs": [],
   "source": [
    "class Board: \n",
    "    def __init__(self):\n",
    "        self.board = [[\"_\" for _ in range(8)] for _ in range(8)]\n",
    "\n",
    "    def __repr__(self):\n",
    "        res = \"\"\n",
    "        for row in self.board:\n",
    "            for col in row:\n",
    "                res += col + \" \"\n",
    "            res += \"\\n\"\n",
    "        return res\n",
    "    \n",
    "    def is_legal_row(self, row):\n",
    "        for i in range(8):\n",
    "            if (self.board[row][i] == \"Q\"):\n",
    "                return False\n",
    "        return True\n",
    "    \n",
    "    def is_legal_col(self, col):\n",
    "        for i in range(8):\n",
    "            if (self.board[i][col] == \"Q\"):\n",
    "                return False\n",
    "        return True\n",
    "    \n",
    "    def is_on_board(self, row, col):\n",
    "        return row >= 0 and row < 8 and col >= 0 and col < 8\n",
    "\n",
    "    def is_legal_diag(self, row, col):\n",
    "        for i in range(8):\n",
    "            if (self.is_on_board(row - i, col - i) and self.board[row - i][col - i] == \"Q\"):\n",
    "                return False\n",
    "            if (self.is_on_board(row - i, col + i) and self.board[row - i][col + i] == \"Q\"):\n",
    "                return False\n",
    "            if (self.is_on_board(row + i, col - i) and self.board[row + i][col - i] == \"Q\"):\n",
    "                return False\n",
    "            if (self.is_on_board(row + i, col + i) and self.board[row - i][col + i] == \"Q\"):\n",
    "                return False\n",
    "        return True\n",
    "    \n",
    "    def is_legal(self, row, col):\n",
    "        if not self.is_legal_row(row):\n",
    "            return False\n",
    "        if not self.is_legal_col(col):\n",
    "            return False\n",
    "        if not self.is_legal_diag(row, col):\n",
    "            return False\n",
    "        return True\n",
    "    \n",
    "    def set_queen_at(self, row, col):\n",
    "        self.board[row][col] = \"Q\"\n",
    "    \n",
    "    def get_queen_on(self, row):\n",
    "        for col in range(8):\n",
    "            if (self.board[row][col] == \"Q\"):\n",
    "                return col\n",
    "        raise ValueError(\"programmer Error\")\n",
    "\n",
    "    def unset_queen_on(self, row):\n",
    "        self.board[row] = [\"_\" for _ in range(8)]\n",
    "\n",
    "    \n",
    "    def search(self):\n",
    "        row = 0\n",
    "        col = 0\n",
    "\n",
    "        while (row >= 0):\n",
    "            if (row < 8):\n",
    "                if (self.is_legal(row, col)):\n",
    "                    self.set_queen_at(row, col)\n",
    "                    row += 1\n",
    "                    col = 0\n",
    "                else:\n",
    "                    col += 1\n",
    "                    while (col >= 8):\n",
    "                        col = self.get_queen_on(row - 1)\n",
    "                        self.unset_queen_on(row - 1)\n",
    "                        col += 1\n",
    "                        row -= 1\n",
    "            else:\n",
    "                print(\"found a solution\")\n",
    "                print(self)\n",
    "                while (col >= 8):\n",
    "                    col = self.get_queen_on(row - 1)\n",
    "                    self.unset_queen_on(row - 1)\n",
    "                    col += 1\n",
    "                    row -= 1\n",
    "\n",
    "        print(\"no more solutions\")\n",
    "    \n",
    "my_board = Board()\n",
    "my_board.search()"
   ]
  }
 ],
 "metadata": {
  "kernelspec": {
   "display_name": "Python 3",
   "language": "python",
   "name": "python3"
  },
  "language_info": {
   "codemirror_mode": {
    "name": "ipython",
    "version": 3
   },
   "file_extension": ".py",
   "mimetype": "text/x-python",
   "name": "python",
   "nbconvert_exporter": "python",
   "pygments_lexer": "ipython3",
   "version": "3.10.12"
  },
  "orig_nbformat": 4,
  "vscode": {
   "interpreter": {
    "hash": "76ca05dc3ea24b2e3b98cdb7774adfbb40773424bf5109b477fd793f623715af"
   }
  }
 },
 "nbformat": 4,
 "nbformat_minor": 2
}
