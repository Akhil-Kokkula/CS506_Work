{
 "cells": [
  {
   "attachments": {},
   "cell_type": "markdown",
   "metadata": {},
   "source": [
    "# Worksheet 08\n",
    "\n",
    "Name: Akhil Kokkula  \n",
    "UID: U99436171\n",
    "\n",
    "### Topics\n",
    "\n",
    "- Soft Clustering\n",
    "- Clustering Aggregation\n",
    "\n",
    "### Probability Review\n",
    "\n",
    "Read through [the following](https://medium.com/@gallettilance/overview-of-probability-3272b72c82c8)\n",
    "\n",
    "### Soft Clustering\n",
    "\n",
    "We generate 10 data points that come from a normal distribution with mean 5 and variance 1."
   ]
  },
  {
   "cell_type": "code",
   "execution_count": 20,
   "metadata": {},
   "outputs": [
    {
     "name": "stdout",
     "output_type": "stream",
     "text": [
      "[5.803676703030271, 4.621104692864513, 4.872316171122979, 4.01867377040279, 4.941984626325077, 6.255947746627925, 3.025498407623114, 6.8814942104720895, 5.480870844378939, 4.615243028107132]\n"
     ]
    }
   ],
   "source": [
    "import random\n",
    "import numpy as np\n",
    "from sklearn.cluster import KMeans\n",
    "\n",
    "mean = 5\n",
    "stdev = 1\n",
    "\n",
    "s1 = np.random.normal(mean, stdev, 10).tolist()\n",
    "print(s1)"
   ]
  },
  {
   "cell_type": "markdown",
   "metadata": {},
   "source": [
    "a) Generate 10 more data points, this time coming from a normal distribution with mean 8 and variance 1."
   ]
  },
  {
   "cell_type": "code",
   "execution_count": 21,
   "metadata": {},
   "outputs": [
    {
     "name": "stdout",
     "output_type": "stream",
     "text": [
      "[7.148151935767252, 6.9335066067686695, 7.722113041297566, 9.10291082279617, 5.957263428459406, 7.341128724050979, 6.286187070462093, 8.541044605880552, 6.845097322313139, 6.215527605515896]\n"
     ]
    }
   ],
   "source": [
    "mean = 8\n",
    "stdev = 1\n",
    "\n",
    "s2 = np.random.normal(mean, stdev, 10).tolist()\n",
    "print(s2)"
   ]
  },
  {
   "cell_type": "markdown",
   "metadata": {},
   "source": [
    "b) Flip a fair coin 10 times. If the coin lands on H, then pick the last data point of `c1` and remove it from `c1`, if T then pick the last data point from `c2` and remove it from `c2`. Add these 10 points to a list called `data`."
   ]
  },
  {
   "cell_type": "code",
   "execution_count": 22,
   "metadata": {},
   "outputs": [
    {
     "name": "stdout",
     "output_type": "stream",
     "text": [
      "[4.615243028107132, 5.480870844378939, 6.8814942104720895, 6.215527605515896, 6.845097322313139, 3.025498407623114, 6.255947746627925, 8.541044605880552, 6.286187070462093, 4.941984626325077]\n"
     ]
    }
   ],
   "source": [
    "data = []\n",
    "for i in range(10):\n",
    "    # flip coin\n",
    "    coin_output = random.choice([0, 1])\n",
    "    if coin_output == 0:\n",
    "        p1 = s1.pop()\n",
    "        data.append(p1)\n",
    "    else:\n",
    "        p2 = s2.pop()\n",
    "        data.append(p2)\n",
    "print(data)"
   ]
  },
  {
   "cell_type": "markdown",
   "metadata": {},
   "source": [
    "c) This `data` is a Gaussian Mixture Distribution with 2 mixture components. Over the next few questions we will walk through the GMM algorithm to see if we can uncover the parameters we used to generate this data. First, please list all these parameters of the GMM that created `data` and the values we know they have."
   ]
  },
  {
   "cell_type": "markdown",
   "metadata": {},
   "source": [
    "\n",
    "- 1/2 chance from picking each normal distribution \n",
    "- One of the normal distributions has mean 5 and variance 1\n",
    "- The other normal distribution has mean 8 and variance 1"
   ]
  },
  {
   "cell_type": "markdown",
   "metadata": {},
   "source": [
    "d) Let's assume there are two mixture components (note: we could plot the data and make the observation that there are two clusters). The EM algorithm asks us to start with a random `mean_j`, `variance_j`, `P(S_j)` for each component j. One method we could use to find sensible values for these is to apply K means with k=2 here.\n",
    "\n",
    "1. the centroids would be the estimates of the `mean_j`\n",
    "2. the intra-cluster variance could be the estimate of `variance_j`\n",
    "3. the proportion of points in each cluster could be the estimate of `P(S_j)`\n",
    "\n",
    "Go through this process and list the parameter estimates it gives. Are they close or far from the true values?"
   ]
  },
  {
   "cell_type": "code",
   "execution_count": 23,
   "metadata": {},
   "outputs": [
    {
     "name": "stdout",
     "output_type": "stream",
     "text": [
      "[6.8814942104720895, 6.215527605515896, 6.845097322313139, 6.255947746627925, 8.541044605880552, 6.286187070462093]\n",
      "[4.615243028107132, 5.480870844378939, 3.025498407623114, 4.941984626325077]\n",
      "P(S_1) = 0.6,  P(S_2) = 0.4\n",
      "mean_1 = 6.837549760211949,  mean_2 = 4.515899226608566\n",
      "var_1 = 0.6555093414012906,  var_2 = 0.8359706957706603\n"
     ]
    },
    {
     "name": "stderr",
     "output_type": "stream",
     "text": [
      "/opt/homebrew/lib/python3.10/site-packages/sklearn/cluster/_kmeans.py:1416: FutureWarning: The default value of `n_init` will change from 10 to 'auto' in 1.4. Set the value of `n_init` explicitly to suppress the warning\n",
      "  super()._check_params_vs_input(X, default_n_init=10)\n"
     ]
    }
   ],
   "source": [
    "kmeans = KMeans(2, init='k-means++').fit(X=np.array(data).reshape(-1, 1))\n",
    "\n",
    "s1 = [x[0] for x in filter(lambda x: x[1] == 0, zip(data, kmeans.labels_))]\n",
    "print(s1)\n",
    "s2 = [x[0] for x in filter(lambda x: x[1] == 1, zip(data, kmeans.labels_))]\n",
    "print(s2)\n",
    "\n",
    "prob_s = [ len(s1) / (len(s1) + len(s2)) , len(s2) / (len(s1) + len(s2))]\n",
    "mean = [ sum(s1)/len(s1) , sum(s2)/len(s2)]\n",
    "var = [ sum(map(lambda x : (x - mean[0])**2, s1)) / len(s1) , sum(map(lambda x : (x - mean[1])**2, s2)) / len(s2)]\n",
    "\n",
    "print(\"P(S_1) = \" + str(prob_s[0]) + \",  P(S_2) = \" + str(prob_s[1]))\n",
    "print(\"mean_1 = \" + str(mean[0]) + \",  mean_2 = \" + str(mean[1]))\n",
    "print(\"var_1 = \" + str(var[0]) + \",  var_2 = \" + str(var[1]))"
   ]
  },
  {
   "cell_type": "markdown",
   "metadata": {},
   "source": [
    "They are not that close to the true values. P(S_j) should be 1/2 but it is 0.6 and 0.4. The mean should be 5 and 8, but it is 6.8 and 4.5. The variance should be 1 for both, but it is 0.66 and 0.84."
   ]
  },
  {
   "cell_type": "markdown",
   "metadata": {},
   "source": [
    "e) For each data point, compute `P(S_j | X_i)`. Comment on which cluster you think each point belongs to based on the estimated probabilities. How does that compare to the truth?"
   ]
  },
  {
   "cell_type": "code",
   "execution_count": 24,
   "metadata": {},
   "outputs": [
    {
     "name": "stdout",
     "output_type": "stream",
     "text": [
      "point =  4.615243028107132\n",
      "probability of observing that point if it came from cluster 0 =  0.0019433957210919033\n",
      "probability of observing that point if it came from cluster 1 =  0.47386260300923544\n",
      "point =  5.480870844378939\n",
      "probability of observing that point if it came from cluster 0 =  0.07148025494541749\n",
      "probability of observing that point if it came from cluster 1 =  0.2451228524600826\n",
      "point =  6.8814942104720895\n",
      "probability of observing that point if it came from cluster 0 =  0.6072328841745261\n",
      "probability of observing that point if it came from cluster 1 =  0.008707742322933424\n",
      "point =  6.215527605515896\n",
      "probability of observing that point if it came from cluster 0 =  0.3879747826962855\n",
      "probability of observing that point if it came from cluster 1 =  0.060412188357749814\n",
      "point =  6.845097322313139\n",
      "probability of observing that point if it came from cluster 0 =  0.6085585842377087\n",
      "probability of observing that point if it came from cluster 1 =  0.009840121991263318\n",
      "point =  3.025498407623114\n",
      "probability of observing that point if it came from cluster 0 =  2.7583307538555014e-08\n",
      "probability of observing that point if it came from cluster 1 =  0.09738982518382942\n",
      "point =  6.255947746627925\n",
      "probability of observing that point if it came from cluster 0 =  0.4105720215109847\n",
      "probability of observing that point if it came from cluster 1 =  0.05469204673937562\n",
      "point =  8.541044605880552\n",
      "probability of observing that point if it came from cluster 0 =  0.020789510434286926\n",
      "probability of observing that point if it came from cluster 1 =  4.410241765484749e-06\n",
      "point =  6.286187070462093\n",
      "probability of observing that point if it came from cluster 0 =  0.42727044812883\n",
      "probability of observing that point if it came from cluster 1 =  0.050692178903257584\n",
      "point =  4.941984626325077\n",
      "probability of observing that point if it came from cluster 0 =  0.009300499454838776\n",
      "probability of observing that point if it came from cluster 1 =  0.41909047381041464\n",
      "4.615243028107132\n",
      "Probability of coming from S_1 = 0.006114156770507072\n",
      "Probability of coming from S_2 = 0.9938858432294929\n",
      "\n",
      "5.480870844378939\n",
      "Probability of coming from S_1 = 0.3043066300256569\n",
      "Probability of coming from S_2 = 0.6956933699743432\n",
      "\n",
      "6.8814942104720895\n",
      "Probability of coming from S_1 = 0.9905305036300407\n",
      "Probability of coming from S_2 = 0.009469496369959278\n",
      "\n",
      "6.215527605515896\n",
      "Probability of coming from S_1 = 0.9059548576443235\n",
      "Probability of coming from S_2 = 0.0940451423556766\n",
      "\n",
      "6.845097322313139\n",
      "Probability of coming from S_1 = 0.9893352588780882\n",
      "Probability of coming from S_2 = 0.010664741121911786\n",
      "\n",
      "3.025498407623114\n",
      "Probability of coming from S_1 = 4.248384638955836e-07\n",
      "Probability of coming from S_2 = 0.9999995751615361\n",
      "\n",
      "6.255947746627925\n",
      "Probability of coming from S_1 = 0.9184370437768627\n",
      "Probability of coming from S_2 = 0.0815629562231373\n",
      "\n",
      "8.541044605880552\n",
      "Probability of coming from S_1 = 0.9998585947739305\n",
      "Probability of coming from S_2 = 0.00014140522606946864\n",
      "\n",
      "6.286187070462093\n",
      "Probability of coming from S_1 = 0.9267028102778413\n",
      "Probability of coming from S_2 = 0.07329718972215865\n",
      "\n",
      "4.941984626325077\n",
      "Probability of coming from S_1 = 0.03221575323902642\n",
      "Probability of coming from S_2 = 0.9677842467609735\n",
      "\n"
     ]
    }
   ],
   "source": [
    "from scipy.stats import norm\n",
    "\n",
    "prob_s0_x = [] # P(S_0 | X_i)\n",
    "prob_s1_x = [] # P(S_1 | X_i)\n",
    "prob_x = [] # P(X_i)\n",
    "\n",
    "k = 2\n",
    "\n",
    "for p in data:\n",
    "    print(\"point = \", p)\n",
    "    pdf_i = []\n",
    "\n",
    "    for j in range(k):\n",
    "        # P(X_i | S_j)\n",
    "        pdf_i.append(norm.pdf(p, mean[j], var[j]))\n",
    "        print(\"probability of observing that point if it came from cluster \" + str(j) + \" = \", pdf_i[j])\n",
    "        # P(S_j) already computed\n",
    "        prob_s[j]\n",
    "\n",
    "    # P(X_i) = P(S_0)P(X_i | S_0) + P(S_1)P(X_i | S_1)\n",
    "    prob_x = prob_s[0] * pdf_i[0] + prob_s[1] * pdf_i[1]\n",
    "\n",
    "    # P(S_j | X_i) = P(X_i | S_j)P(S_j) / P(X_i)\n",
    "    prob_s0_x.append( pdf_i[0] * prob_s[0] / prob_x)\n",
    "    prob_s1_x.append( pdf_i[1] * prob_s[1] / prob_x)\n",
    "\n",
    "probs = zip(data, prob_s0_x, prob_s1_x)\n",
    "for p in probs:\n",
    "    print(p[0])\n",
    "    print(\"Probability of coming from S_1 = \" + str(p[1]))\n",
    "    print(\"Probability of coming from S_2 = \" + str(p[2]))\n",
    "    print()\n",
    "\n",
    "\n",
    "#pretty off from the truth\n"
   ]
  },
  {
   "cell_type": "markdown",
   "metadata": {},
   "source": [
    "f) Having computed `P(S_j | X_i)`, update the estimates of `mean_j`, `var_j`, and `P(S_j)`. How different are these values from the original ones you got from K means? briefly comment."
   ]
  },
  {
   "cell_type": "code",
   "execution_count": 33,
   "metadata": {},
   "outputs": [
    {
     "name": "stdout",
     "output_type": "stream",
     "text": [
      "P(S_1) = 0.6,  P(S_2) = 0.4\n",
      "mean_1 = 6.7413909948889446,  mean_2 = 4.615642408784132\n",
      "var_1 = 0.8192082724402762,  var_2 = 1.1395897756753288\n"
     ]
    }
   ],
   "source": [
    "prob_c = [sum(prob_s0_x)/ len(prob_s0_x), sum(prob_s1_x)/ len(prob_s1_x)]\n",
    "mean = [sum([x[0] * x[1] for x in zip(prob_s0_x, data)]) / sum(prob_s0_x), sum([x[0] * x[1] for x in zip(prob_s1_x, data)]) / sum(prob_s1_x)]\n",
    "var = [sum([x[0] * ((x[1] - mean[0])**2) for x in zip(prob_s0_x, data)]) / sum(prob_s0_x),\n",
    "       sum([x[0] * ((x[1] - mean[1])**2) for x in zip(prob_s1_x, data)]) / sum(prob_s1_x)]\n",
    "\n",
    "\n",
    "print(\"P(S_1) = \" + str(prob_s[0]) + \",  P(S_2) = \" + str(prob_s[1]))\n",
    "print(\"mean_1 = \" + str(mean[0]) + \",  mean_2 = \" + str(mean[1]))\n",
    "print(\"var_1 = \" + str(var[0]) + \",  var_2 = \" + str(var[1]))"
   ]
  },
  {
   "cell_type": "markdown",
   "metadata": {},
   "source": [
    "They are not that close to the true values but slighlty improved. P(S_j) should be 1/2 but it is 0.6 and 0.4. The mean should be 5 and 8, but it is 6.7 and 4.6. The variance should be 1 for both, but it is 0.82 and 1.14."
   ]
  },
  {
   "cell_type": "markdown",
   "metadata": {},
   "source": [
    "g) Update `P(S_j | X_i)`. Comment on any differences or lack thereof you observe."
   ]
  },
  {
   "cell_type": "code",
   "execution_count": 29,
   "metadata": {},
   "outputs": [
    {
     "name": "stdout",
     "output_type": "stream",
     "text": [
      "4.615243028107132\n",
      "Probability of coming from S_0 = 0.02973974902703908\n",
      "Probability of coming from S_1 = 0.9702602509729609\n",
      "\n",
      "5.480870844378939\n",
      "Probability of coming from S_0 = 0.40968770167630847\n",
      "Probability of coming from S_1 = 0.5903122983236916\n",
      "\n",
      "6.8814942104720895\n",
      "Probability of coming from S_0 = 0.9687991864905303\n",
      "Probability of coming from S_1 = 0.03120081350946968\n",
      "\n",
      "6.215527605515896\n",
      "Probability of coming from S_0 = 0.8606394447552903\n",
      "Probability of coming from S_1 = 0.13936055524470967\n",
      "\n",
      "6.845097322313139\n",
      "Probability of coming from S_0 = 0.9663122275095932\n",
      "Probability of coming from S_1 = 0.03368777249040684\n",
      "\n",
      "3.025498407623114\n",
      "Probability of coming from S_0 = 2.14799526375021e-05\n",
      "Probability of coming from S_1 = 0.9999785200473624\n",
      "\n",
      "6.255947746627925\n",
      "Probability of coming from S_0 = 0.8730906610012963\n",
      "Probability of coming from S_1 = 0.1269093389987038\n",
      "\n",
      "8.541044605880552\n",
      "Probability of coming from S_0 = 0.9973847278279016\n",
      "Probability of coming from S_1 = 0.002615272172098452\n",
      "\n",
      "6.286187070462093\n",
      "Probability of coming from S_0 = 0.8816856977744311\n",
      "Probability of coming from S_1 = 0.11831430222556884\n",
      "\n",
      "4.941984626325077\n",
      "Probability of coming from S_0 = 0.09636485919145107\n",
      "Probability of coming from S_1 = 0.9036351408085489\n",
      "\n"
     ]
    }
   ],
   "source": [
    "prob_s0_x = []\n",
    "prob_s1_x = []\n",
    "\n",
    "for p in data:\n",
    "    pdf_i = []\n",
    "\n",
    "    for j in range(k):\n",
    "        pdf_i.append(norm.pdf(p, mean[j], var[j]))\n",
    "\n",
    "    # P(S_0 | X_i) = P(X_i | S_0)P(S_0) / P(X_i)\n",
    "    prob_s0_x_i = (pdf_i[0] * prob_c[0]) / (pdf_i[0] * prob_c[0] + pdf_i[1] * prob_c[1])\n",
    "    prob_s0_x.append(prob_s0_x_i)\n",
    "\n",
    "    # P(S_1 | X_i) = P(X_i | S_1)P(S_1) / P(X_i)\n",
    "    prob_s1_x_i = (pdf_i[1] * prob_c[1]) / (pdf_i[0] * prob_c[0] + pdf_i[1] * prob_c[1])\n",
    "    prob_s1_x.append(prob_s1_x_i)\n",
    "\n",
    "probabilities = zip(data, prob_s0_x, prob_s1_x)\n",
    "for p in probabilities:\n",
    "    print(p[0])\n",
    "    print(\"Probability of coming from S_0 = \" + str(p[1]))\n",
    "    print(\"Probability of coming from S_1 = \" + str(p[2]))\n",
    "    print()"
   ]
  },
  {
   "cell_type": "markdown",
   "metadata": {},
   "source": [
    "Not the best estimates but they are slightly better than the previous estimates."
   ]
  },
  {
   "cell_type": "markdown",
   "metadata": {},
   "source": [
    "h) Use `P(S_j | X_i)` to create a hard assignment - label each point as belonging to a specific cluster (0 or 1)"
   ]
  },
  {
   "cell_type": "code",
   "execution_count": 30,
   "metadata": {},
   "outputs": [
    {
     "name": "stdout",
     "output_type": "stream",
     "text": [
      "Data point 0 belongs to Cluster 1\n",
      "Data point 1 belongs to Cluster 1\n",
      "Data point 2 belongs to Cluster 0\n",
      "Data point 3 belongs to Cluster 0\n",
      "Data point 4 belongs to Cluster 0\n",
      "Data point 5 belongs to Cluster 1\n",
      "Data point 6 belongs to Cluster 0\n",
      "Data point 7 belongs to Cluster 0\n",
      "Data point 8 belongs to Cluster 0\n",
      "Data point 9 belongs to Cluster 1\n"
     ]
    }
   ],
   "source": [
    "hard_assignments = []\n",
    "\n",
    "for p_s0, p_s1 in zip(prob_s0_x, prob_s1_x):\n",
    "    if p_s0 > p_s1:\n",
    "        hard_assignments.append(0) \n",
    "    else:\n",
    "        hard_assignments.append(1)\n",
    "\n",
    "for i, assignment in enumerate(hard_assignments):\n",
    "    print(f\"Data point {i} belongs to Cluster {assignment}\")"
   ]
  }
 ],
 "metadata": {
  "kernelspec": {
   "display_name": "Python 3",
   "language": "python",
   "name": "python3"
  },
  "language_info": {
   "codemirror_mode": {
    "name": "ipython",
    "version": 3
   },
   "file_extension": ".py",
   "mimetype": "text/x-python",
   "name": "python",
   "nbconvert_exporter": "python",
   "pygments_lexer": "ipython3",
   "version": "3.10.12"
  },
  "orig_nbformat": 4,
  "vscode": {
   "interpreter": {
    "hash": "e7370f93d1d0cde622a1f8e1c04877d8463912d04d973331ad4851f04de6915a"
   }
  }
 },
 "nbformat": 4,
 "nbformat_minor": 2
}
